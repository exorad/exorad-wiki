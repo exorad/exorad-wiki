{
 "cells": [
  {
   "attachments": {},
   "cell_type": "markdown",
   "metadata": {},
   "source": [
    "## Tutorial for custom use of `exorad_opac`"
   ]
  },
  {
   "cell_type": "code",
   "execution_count": 1,
   "metadata": {},
   "outputs": [],
   "source": [
    "import exorad_opac\n",
    "import astropy.units as u\n",
    "import astropy.constants as const\n",
    "import numpy as np"
   ]
  },
  {
   "attachments": {},
   "cell_type": "markdown",
   "metadata": {},
   "source": [
    "The standard preprocessing routine that is used in `exorad_opac_create` is called `wrap_standard_preprocessing`. If you want to do any special things in your preprocessing, you can create a python file or notebook and start from this routine. Here is what the routine does:"
   ]
  },
  {
   "cell_type": "code",
   "execution_count": 2,
   "metadata": {},
   "outputs": [
    {
     "name": "stdout",
     "output_type": "stream",
     "text": [
      "Help on function wrap_standard_preprocessing in module exorad_opac.wrapper:\n",
      "\n",
      "wrap_standard_preprocessing(path, R, abunds=None, MMW=None, cp=None, stellar_intensity=None, flux_scaling=None, update_datafile=True)\n",
      "    The default workflow.\n",
      "    If you want to do something specefic, you may need to change either of the steps\n",
      "    \n",
      "    Steps:\n",
      "    0. Read and parse config file (load_data and parse_config) - done in __init__\n",
      "    1. setup the pressure (p_array and p_center)\n",
      "    2. setup the temperature grid for the premixed quantities (tgrid)\n",
      "    2. generate the Radtrans object - will return and set the Radtrans object\n",
      "    3. Calculate Temperature profile\n",
      "    4. Calculate Chemistry\n",
      "    5. Calculate the stellar intensity\n",
      "    6. Adapt Temperature profile for deep adiabat (if wished for)\n",
      "    7. update the datafile - optional\n",
      "    8. Write output\n",
      "    \n",
      "    Note on units:\n",
      "    - Inside exorad_opac we use cgs+bar exclusively\n",
      "    - opac.yaml can be mixed units that are converted during readin (see docs)\n",
      "    \n",
      "    Parameters\n",
      "    ----------\n",
      "    path: str\n",
      "        Path to exorad simulation folder\n",
      "    R: int or [S0,S1,S2]\n",
      "        Wavelength Resolution\n",
      "    update_datafile: bool\n",
      "        Weather you want to update the datafile with pressure, temperature, cp and Rs\n",
      "    abunds (optional): list of dictionaries (one for each temperature in the tgrid)\n",
      "        Abundances to be used for the opacity grid calculation.\n",
      "        Defaults to the calculated value from equilibrium chemistry\n",
      "    MMW (optional): float\n",
      "        A mean molecular weight to be used.\n",
      "        Defaults to the calculated value from equilibrium chemistry\n",
      "    cp (optional): float\n",
      "        A heat capacity to be used\n",
      "        Defaults to the calculated value from equilibrium chemistry\n",
      "    stellar_intensity (optional): array of same length as Radtrans.freqi\n",
      "        A custom stellar intensity (Flux/pi) scaled to the position of the planet\n",
      "        See Radtrans.get_star_spectrum for a comparable spectrum\n",
      "        Note that the default changes to the phoenix spectrum calculated by\n",
      "        Radtrans.get_star_spectrum\n",
      "    flux_scaling (optional): \"BB\", None or value\n",
      "        Scale the stellar flux. If value, will use the value for scaling\n",
      "\n"
     ]
    }
   ],
   "source": [
    "help(exorad_opac.wrap_standard_preprocessing)"
   ]
  },
  {
   "attachments": {},
   "cell_type": "markdown",
   "metadata": {},
   "source": [
    "Have a look into `exorad_opac.wrapper` to see what it does.\n",
    "\n",
    "Note: everything is in cgs (+bar for pressure) inside exorad_opac. Only the `opac.yaml` file can deviate from it.\n",
    "\n",
    "There are three basic parts:\n",
    "\n",
    "- A parser, that holds some configuration (e.g., from the `opac.yaml`)\n",
    "- A preprocessing wrapper, that defines the steps for preprocessing (generating opacities and so on)\n",
    "- A output writer class, that writes the output so that `exPERT/MITgcm` can read it\n",
    "\n",
    "We will go through the steps here:"
   ]
  },
  {
   "attachments": {},
   "cell_type": "markdown",
   "metadata": {},
   "source": [
    "### The parser"
   ]
  },
  {
   "attachments": {},
   "cell_type": "markdown",
   "metadata": {},
   "source": [
    "The parser objects are meant to hold the configuration of the preprocessing (e.g., Tstar, Rstar, tmin, ...). You can either define a custom parser or use the opacyaml parser which loads a configuration from the opacyaml file\n",
    "\n",
    "There are two parsers: \n",
    "- `exorad_opac.OpacYamlParser` parses the opacyaml file\n",
    "- `exorad_opac.CustomParser` sets the most important things\n",
    "\n",
    "Note: The `CustomParser` is initialized with all the default values and will only overwrite a few things when its initialized (see `help(exorad_opac.CustomParser())`). Its inteaded to be used together with the `PreprocessingWrapper` classes, where non standard parameters should be set in the preprocessing.\n",
    "\n",
    "This example will use the `CustomParser` to showcase the preprocessing."
   ]
  },
  {
   "cell_type": "code",
   "execution_count": 3,
   "metadata": {},
   "outputs": [],
   "source": [
    "Rstar = (1*u.R_sun).cgs.value  # cm\n",
    "Tstar = 5000  # K\n",
    "gravity = 900  # cm/s2\n",
    "semimajoraxis = (0.01 * u.au).cgs.value  # cm\n",
    "R = \"S1\"  # wavelength resolution\n",
    "\n",
    "parser = exorad_opac.CustomParser(R=R, Tstar=Tstar, Rstar=Rstar, semimajoraxis=semimajoraxis, gravity=gravity)"
   ]
  },
  {
   "attachments": {},
   "cell_type": "markdown",
   "metadata": {},
   "source": [
    "### The preprocessing wrapper"
   ]
  },
  {
   "attachments": {},
   "cell_type": "markdown",
   "metadata": {},
   "source": [
    "There is currently only one preprocessing wrapper which is the `PRTPreprocessingWrapper` that uses `petitRADTRANS` to generate k-tables."
   ]
  },
  {
   "cell_type": "code",
   "execution_count": 4,
   "metadata": {},
   "outputs": [],
   "source": [
    "pwrap = exorad_opac.PRTPreprocessingWrapper(parser)"
   ]
  },
  {
   "attachments": {},
   "cell_type": "markdown",
   "metadata": {},
   "source": [
    "We now follow through the steps of preprocessing. \n",
    "\n",
    "First step is to setup the temperature grid to be used for the k-tables. You can also use the default values for tgrid, or if your parser is the `OpacYamlParser` you can use the `tmin`, `tmax`, `tresolution` ion the `opac.yaml` to do the same."
   ]
  },
  {
   "cell_type": "code",
   "execution_count": 5,
   "metadata": {},
   "outputs": [],
   "source": [
    "tgrid = np.logspace(np.log10(100), np.log10(10000), 100)\n",
    "pwrap.setup_tgrid(tgrid=tgrid)\n",
    "# pwrap.setup_tgrid()  # Use default values, or if provided values from opac.yaml"
   ]
  },
  {
   "attachments": {},
   "cell_type": "markdown",
   "metadata": {},
   "source": [
    "Next is the pressure grid in the GCM and the ktables."
   ]
  },
  {
   "cell_type": "code",
   "execution_count": 6,
   "metadata": {},
   "outputs": [],
   "source": [
    "# pwrap.setup_pressure(p0=700, np_log=41, zero_eps=2e-5, dp_lin=100)  # setup using specific values\n",
    "# pwrap.setup_pressure()  # Use default values, or if provided values from opac.yaml\n",
    "pwrap.setup_pressure(p_array=np.logspace(-5, 3, 45))   # setup using specific pressure grid  "
   ]
  },
  {
   "attachments": {},
   "cell_type": "markdown",
   "metadata": {},
   "source": [
    "We can continue and set up the custom petitRADTRANS object"
   ]
  },
  {
   "cell_type": "code",
   "execution_count": 7,
   "metadata": {},
   "outputs": [
    {
     "name": "stdout",
     "output_type": "stream",
     "text": [
      "we are using the showman grid\n"
     ]
    },
    {
     "name": "stderr",
     "output_type": "stream",
     "text": [
      "/Users/schneider/anaconda3/envs/exorad/lib/python3.10/site-packages/petitRADTRANS/radtrans.py:100: FutureWarning: pRT_input_data_path was set by an environment variable. In a future update, the path to the petitRADTRANS input_data will be set within a .ini file that will be automatically generated into the user home directory (OS agnostic), inside a .petitradtrans directory\n",
      "  warnings.warn(f\"pRT_input_data_path was set by an environment variable. In a future update, the path to \"\n"
     ]
    },
    {
     "name": "stdout",
     "output_type": "stream",
     "text": [
      "  Read line opacities of H2O_exomol_R_S1...\n",
      " Done.\n",
      "\n"
     ]
    }
   ],
   "source": [
    "pRT = pwrap.generate_pRT_obj(line_species=['H2O_exomol'], rayleigh_species=[], continuum_opacities=[])  # supply any parameter for petitRADTRANS in here!"
   ]
  },
  {
   "attachments": {},
   "cell_type": "markdown",
   "metadata": {},
   "source": [
    "For the initial temperature profile we have quite some options. Head over to `exorad_opac/ic.py` to see which profiles are implemented!"
   ]
  },
  {
   "cell_type": "code",
   "execution_count": 8,
   "metadata": {},
   "outputs": [
    {
     "name": "stdout",
     "output_type": "stream",
     "text": [
      "Using T_int from Thorngren2019. Update data.exoprt with T_int = 566.8137912496366, if you need consistancy.\n"
     ]
    },
    {
     "data": {
      "text/plain": [
       "array([2601.36051658, 2601.36021872, 2601.35975608, 2601.35903472,\n",
       "       2601.3579046 , 2601.356124  , 2601.35329966, 2601.34878448,\n",
       "       2601.34150086, 2601.32963127, 2601.31006954, 2601.27743664,\n",
       "       2601.22229705, 2601.12789741, 2600.96416056, 2600.67657134,\n",
       "       2600.16557362, 2599.24849997, 2597.59005549, 2594.57894981,\n",
       "       2589.1225532 , 2579.35439074, 2562.39286139, 2534.8001666 ,\n",
       "       2495.66650133, 2455.96121931, 2454.60335859, 2556.47943245,\n",
       "       2781.20587561, 3009.62287888, 3122.48101103, 3216.92286116,\n",
       "       3271.2443721 , 3285.03103877, 3297.82717373, 3322.58539926,\n",
       "       3371.68509809, 3472.43157394, 3696.87050679, 4014.30881616,\n",
       "       4339.7374049 , 4670.28978811, 5002.88890446, 5334.35772722])"
      ]
     },
     "execution_count": 8,
     "metadata": {},
     "output_type": "execute_result"
    }
   ],
   "source": [
    "# Right now we just want to use the standard temperature profile that depends on the orbital parameters\n",
    "pwrap.calc_init_temperature()\n",
    "\n",
    "# check help(pwrap.calc_init_temperature()) to see your options"
   ]
  },
  {
   "attachments": {},
   "cell_type": "markdown",
   "metadata": {},
   "source": [
    "Now we calculate the chemistry"
   ]
  },
  {
   "cell_type": "code",
   "execution_count": 9,
   "metadata": {},
   "outputs": [],
   "source": [
    "# Use the default equilibrium chemistry package:\n",
    "pwrap.calc_chemistry()\n",
    "\n",
    "# ... or specific values\n",
    "abunds = []\n",
    "for ti,t in enumerate(pwrap.tgrid):\n",
    "    abunds.append({'H2O':np.ones_like(pwrap.p_array)})\n",
    "\n",
    "pwrap.calc_chemistry(MMW=2.3, cp=5000, abunds=abunds)"
   ]
  },
  {
   "attachments": {},
   "cell_type": "markdown",
   "metadata": {},
   "source": [
    "Correct the temperature profile for the deep adiabat. This needs to be done once we have set a MMW and cp in `calc_chemistry`. Because the adiabat depends on these values."
   ]
  },
  {
   "cell_type": "code",
   "execution_count": 10,
   "metadata": {},
   "outputs": [
    {
     "data": {
      "text/plain": [
       "array([2601.36051658, 2601.36021872, 2601.35975608, 2601.35903472,\n",
       "       2601.3579046 , 2601.356124  , 2601.35329966, 2601.34878448,\n",
       "       2601.34150086, 2601.32963127, 2601.31006954, 2601.27743664,\n",
       "       2601.22229705, 2601.12789741, 2600.96416056, 2600.67657134,\n",
       "       2600.16557362, 2599.24849997, 2597.59005549, 2594.57894981,\n",
       "       2589.1225532 , 2579.35439074, 2562.39286139, 2534.8001666 ,\n",
       "       2495.66650133, 2455.96121931, 2454.60335859, 2556.47943245,\n",
       "       2781.20587561, 3009.62287888, 3122.48101103, 3216.92286116,\n",
       "       3271.2443721 , 3285.03103877, 3297.82717373, 3322.58539926,\n",
       "       3371.68509809, 3472.43157394, 3696.87050679, 4014.30881616,\n",
       "       4339.7374049 , 4670.28978811, 5002.88890446, 5334.35772722])"
      ]
     },
     "execution_count": 10,
     "metadata": {},
     "output_type": "execute_result"
    }
   ],
   "source": [
    "pwrap.correct_init_temperature_for_deep_adiabat(theta_deep=1400, p_max_deep=10, p_min_deep=10)\n",
    "# pwrap.correct_init_temperature_for_deep_adiabat()  # Use default values"
   ]
  },
  {
   "attachments": {},
   "cell_type": "markdown",
   "metadata": {},
   "source": [
    "We can now update the pressure, temperature, `atm_Rd` and `atm_cs` in the datafile to be consistent"
   ]
  },
  {
   "cell_type": "code",
   "execution_count": 11,
   "metadata": {},
   "outputs": [],
   "source": [
    "# pwrap.update_datafile(datafile='path/to/data')"
   ]
  },
  {
   "attachments": {},
   "cell_type": "markdown",
   "metadata": {},
   "source": [
    "We finally setup the stellar intensity. We have a few options here. Either provide the stellar intensity here, or use the inbuild phoenix models. You can decide if you want the stellar intensity to be scaled to a black body or a specific total intensity (Flux/pi). Check `help(pwrap.setup_stellar_intensity)` for more details on your options."
   ]
  },
  {
   "cell_type": "code",
   "execution_count": 12,
   "metadata": {},
   "outputs": [
    {
     "name": "stdout",
     "output_type": "stream",
     "text": [
      "The stellar flux is scaled by 3.7359526388671136e-09 to match the input.\n"
     ]
    }
   ],
   "source": [
    "stellar_intensity = np.ones_like(pRT.freq)  # use a random stellar intensity\n",
    "flux_scaling = 3457345\n",
    "pwrap.setup_stellar_intensity(stellar_intensity=stellar_intensity, flux_scaling=flux_scaling)\n",
    "\n",
    "# or use the default phoenix stellar model for the given orbital and stellar parameters\n",
    "# pwrap.setup_stellar_intensity()"
   ]
  },
  {
   "attachments": {},
   "cell_type": "markdown",
   "metadata": {},
   "source": [
    "Finally calculate the opacity grid"
   ]
  },
  {
   "cell_type": "code",
   "execution_count": 13,
   "metadata": {},
   "outputs": [
    {
     "name": "stdout",
     "output_type": "stream",
     "text": [
      "Region of zero opacity detected, setting the photon destruction probability in this spectral range to 1.\n",
      "Region of zero opacity detected, setting the photon destruction probability in this spectral range to 1.\n",
      "Region of zero opacity detected, setting the photon destruction probability in this spectral range to 1.\n",
      "Region of zero opacity detected, setting the photon destruction probability in this spectral range to 1.\n",
      "Region of zero opacity detected, setting the photon destruction probability in this spectral range to 1.\n",
      "Region of zero opacity detected, setting the photon destruction probability in this spectral range to 1.\n",
      "Region of zero opacity detected, setting the photon destruction probability in this spectral range to 1.\n",
      "Region of zero opacity detected, setting the photon destruction probability in this spectral range to 1.\n",
      "Region of zero opacity detected, setting the photon destruction probability in this spectral range to 1.\n",
      "Region of zero opacity detected, setting the photon destruction probability in this spectral range to 1.\n",
      "Region of zero opacity detected, setting the photon destruction probability in this spectral range to 1.\n",
      "Region of zero opacity detected, setting the photon destruction probability in this spectral range to 1.\n",
      "Region of zero opacity detected, setting the photon destruction probability in this spectral range to 1.\n",
      "Region of zero opacity detected, setting the photon destruction probability in this spectral range to 1.\n",
      "Region of zero opacity detected, setting the photon destruction probability in this spectral range to 1.\n",
      "Region of zero opacity detected, setting the photon destruction probability in this spectral range to 1.\n",
      "Region of zero opacity detected, setting the photon destruction probability in this spectral range to 1.\n",
      "Region of zero opacity detected, setting the photon destruction probability in this spectral range to 1.\n",
      "Region of zero opacity detected, setting the photon destruction probability in this spectral range to 1.\n",
      "Region of zero opacity detected, setting the photon destruction probability in this spectral range to 1.\n",
      "Region of zero opacity detected, setting the photon destruction probability in this spectral range to 1.\n",
      "Region of zero opacity detected, setting the photon destruction probability in this spectral range to 1.\n",
      "Region of zero opacity detected, setting the photon destruction probability in this spectral range to 1.\n",
      "Region of zero opacity detected, setting the photon destruction probability in this spectral range to 1.\n",
      "Region of zero opacity detected, setting the photon destruction probability in this spectral range to 1.\n",
      "Region of zero opacity detected, setting the photon destruction probability in this spectral range to 1.\n",
      "Region of zero opacity detected, setting the photon destruction probability in this spectral range to 1.\n",
      "Region of zero opacity detected, setting the photon destruction probability in this spectral range to 1.\n",
      "Region of zero opacity detected, setting the photon destruction probability in this spectral range to 1.\n",
      "Region of zero opacity detected, setting the photon destruction probability in this spectral range to 1.\n",
      "Region of zero opacity detected, setting the photon destruction probability in this spectral range to 1.\n",
      "Region of zero opacity detected, setting the photon destruction probability in this spectral range to 1.\n",
      "Region of zero opacity detected, setting the photon destruction probability in this spectral range to 1.\n",
      "Region of zero opacity detected, setting the photon destruction probability in this spectral range to 1.\n",
      "Region of zero opacity detected, setting the photon destruction probability in this spectral range to 1.\n",
      "Region of zero opacity detected, setting the photon destruction probability in this spectral range to 1.\n",
      "Region of zero opacity detected, setting the photon destruction probability in this spectral range to 1.\n",
      "Region of zero opacity detected, setting the photon destruction probability in this spectral range to 1.\n",
      "Region of zero opacity detected, setting the photon destruction probability in this spectral range to 1.\n",
      "Region of zero opacity detected, setting the photon destruction probability in this spectral range to 1.\n",
      "Region of zero opacity detected, setting the photon destruction probability in this spectral range to 1.\n",
      "Region of zero opacity detected, setting the photon destruction probability in this spectral range to 1.\n",
      "Region of zero opacity detected, setting the photon destruction probability in this spectral range to 1.\n",
      "Region of zero opacity detected, setting the photon destruction probability in this spectral range to 1.\n",
      "Region of zero opacity detected, setting the photon destruction probability in this spectral range to 1.\n",
      "Region of zero opacity detected, setting the photon destruction probability in this spectral range to 1.\n",
      "Region of zero opacity detected, setting the photon destruction probability in this spectral range to 1.\n",
      "Region of zero opacity detected, setting the photon destruction probability in this spectral range to 1.\n",
      "Region of zero opacity detected, setting the photon destruction probability in this spectral range to 1.\n",
      "Region of zero opacity detected, setting the photon destruction probability in this spectral range to 1.\n",
      "Region of zero opacity detected, setting the photon destruction probability in this spectral range to 1.\n",
      "Region of zero opacity detected, setting the photon destruction probability in this spectral range to 1.\n",
      "Region of zero opacity detected, setting the photon destruction probability in this spectral range to 1.\n",
      "Region of zero opacity detected, setting the photon destruction probability in this spectral range to 1.\n",
      "Region of zero opacity detected, setting the photon destruction probability in this spectral range to 1.\n",
      "Region of zero opacity detected, setting the photon destruction probability in this spectral range to 1.\n",
      "Region of zero opacity detected, setting the photon destruction probability in this spectral range to 1.\n",
      "Region of zero opacity detected, setting the photon destruction probability in this spectral range to 1.\n",
      "Region of zero opacity detected, setting the photon destruction probability in this spectral range to 1.\n",
      "Region of zero opacity detected, setting the photon destruction probability in this spectral range to 1.\n",
      "Region of zero opacity detected, setting the photon destruction probability in this spectral range to 1.\n",
      "Region of zero opacity detected, setting the photon destruction probability in this spectral range to 1.\n",
      "Region of zero opacity detected, setting the photon destruction probability in this spectral range to 1.\n",
      "Region of zero opacity detected, setting the photon destruction probability in this spectral range to 1.\n",
      "Region of zero opacity detected, setting the photon destruction probability in this spectral range to 1.\n",
      "Region of zero opacity detected, setting the photon destruction probability in this spectral range to 1.\n",
      "Region of zero opacity detected, setting the photon destruction probability in this spectral range to 1.\n",
      "Region of zero opacity detected, setting the photon destruction probability in this spectral range to 1.\n",
      "Region of zero opacity detected, setting the photon destruction probability in this spectral range to 1.\n",
      "Region of zero opacity detected, setting the photon destruction probability in this spectral range to 1.\n",
      "Region of zero opacity detected, setting the photon destruction probability in this spectral range to 1.\n",
      "Region of zero opacity detected, setting the photon destruction probability in this spectral range to 1.\n",
      "Region of zero opacity detected, setting the photon destruction probability in this spectral range to 1.\n",
      "Region of zero opacity detected, setting the photon destruction probability in this spectral range to 1.\n",
      "Region of zero opacity detected, setting the photon destruction probability in this spectral range to 1.\n",
      "Region of zero opacity detected, setting the photon destruction probability in this spectral range to 1.\n",
      "Region of zero opacity detected, setting the photon destruction probability in this spectral range to 1.\n",
      "Region of zero opacity detected, setting the photon destruction probability in this spectral range to 1.\n",
      "Region of zero opacity detected, setting the photon destruction probability in this spectral range to 1.\n",
      "Region of zero opacity detected, setting the photon destruction probability in this spectral range to 1.\n",
      "Region of zero opacity detected, setting the photon destruction probability in this spectral range to 1.\n",
      "Region of zero opacity detected, setting the photon destruction probability in this spectral range to 1.\n",
      "Region of zero opacity detected, setting the photon destruction probability in this spectral range to 1.\n",
      "Region of zero opacity detected, setting the photon destruction probability in this spectral range to 1.\n",
      "Region of zero opacity detected, setting the photon destruction probability in this spectral range to 1.\n",
      "Region of zero opacity detected, setting the photon destruction probability in this spectral range to 1.\n",
      "Region of zero opacity detected, setting the photon destruction probability in this spectral range to 1.\n",
      "Region of zero opacity detected, setting the photon destruction probability in this spectral range to 1.\n",
      "Region of zero opacity detected, setting the photon destruction probability in this spectral range to 1.\n",
      "Region of zero opacity detected, setting the photon destruction probability in this spectral range to 1.\n",
      "Region of zero opacity detected, setting the photon destruction probability in this spectral range to 1.\n",
      "Region of zero opacity detected, setting the photon destruction probability in this spectral range to 1.\n",
      "Region of zero opacity detected, setting the photon destruction probability in this spectral range to 1.\n",
      "Region of zero opacity detected, setting the photon destruction probability in this spectral range to 1.\n",
      "Region of zero opacity detected, setting the photon destruction probability in this spectral range to 1.\n",
      "Region of zero opacity detected, setting the photon destruction probability in this spectral range to 1.\n",
      "Region of zero opacity detected, setting the photon destruction probability in this spectral range to 1.\n",
      "Region of zero opacity detected, setting the photon destruction probability in this spectral range to 1.\n",
      "Region of zero opacity detected, setting the photon destruction probability in this spectral range to 1.\n",
      "Region of zero opacity detected, setting the photon destruction probability in this spectral range to 1.\n"
     ]
    }
   ],
   "source": [
    "pwrap.calc_opa_grid()"
   ]
  },
  {
   "attachments": {},
   "cell_type": "markdown",
   "metadata": {},
   "source": [
    "### The output"
   ]
  },
  {
   "attachments": {},
   "cell_type": "markdown",
   "metadata": {},
   "source": [
    "And write out the stuff to your experiment directory"
   ]
  },
  {
   "cell_type": "code",
   "execution_count": 14,
   "metadata": {},
   "outputs": [],
   "source": [
    "output_writer = exorad_opac.pRTOuputWriter(pRT)\n",
    "# output_writer.write_output(\"path/to/experiment\")"
   ]
  }
 ],
 "metadata": {
  "kernelspec": {
   "display_name": "exorad",
   "language": "python",
   "name": "python3"
  },
  "language_info": {
   "codemirror_mode": {
    "name": "ipython",
    "version": 3
   },
   "file_extension": ".py",
   "mimetype": "text/x-python",
   "name": "python",
   "nbconvert_exporter": "python",
   "pygments_lexer": "ipython3",
   "version": "3.10.6"
  },
  "orig_nbformat": 4
 },
 "nbformat": 4,
 "nbformat_minor": 2
}
