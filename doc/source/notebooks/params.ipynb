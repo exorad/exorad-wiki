{
 "cells": [
  {
   "cell_type": "markdown",
   "id": "fec45352",
   "metadata": {},
   "source": [
    "### exoplanet.eu parser"
   ]
  },
  {
   "cell_type": "code",
   "execution_count": 1,
   "id": "1bf28eeb-ef25-4e9c-be13-30b32ff0aa8f",
   "metadata": {},
   "outputs": [],
   "source": [
    "import pyexoplaneteu  # (install via pip install pyExoplaneteu)\n",
    "import pandas as pd\n",
    "import astropy.units as u\n",
    "import astropy.constants as const"
   ]
  },
  {
   "cell_type": "code",
   "execution_count": 2,
   "id": "f0960e46-5a15-4c7d-8438-4d9065920fc0",
   "metadata": {},
   "outputs": [],
   "source": [
    "planet= 'WASP-39 b'"
   ]
  },
  {
   "cell_type": "code",
   "execution_count": 3,
   "id": "38221d6e-045d-4215-81e2-80a5ca3a5ecf",
   "metadata": {},
   "outputs": [],
   "source": [
    "data = pyexoplaneteu.get_data()\n",
    "df = pd.DataFrame(data, index=data['name'])"
   ]
  },
  {
   "cell_type": "code",
   "execution_count": 4,
   "id": "4389536b-5aab-4fa8-a4fe-f511f5ca941c",
   "metadata": {},
   "outputs": [],
   "source": [
    "df_pla = df.loc[planet]"
   ]
  },
  {
   "cell_type": "code",
   "execution_count": 5,
   "id": "ef45a941-a13e-4995-b824-9112976a8eef",
   "metadata": {},
   "outputs": [],
   "source": [
    "R = df_pla['radius']*u.jupiterRad\n",
    "M = df_pla['mass']*u.jupiterMass\n",
    "g = M*const.G/R**2\n",
    "omega = df_pla['orbital_period']*u.day\n",
    "ap = df_pla['semi_major_axis']*u.au\n",
    "Rstar = df_pla['star_radius']*u.R_sun\n",
    "Tstar = df_pla['star_teff']*u.K"
   ]
  },
  {
   "cell_type": "markdown",
   "id": "ff843d0b-9bb6-4eca-b99a-fd4759f28e7e",
   "metadata": {},
   "source": [
    "`data` file:"
   ]
  },
  {
   "cell_type": "code",
   "execution_count": 6,
   "id": "53cb5f13-d593-46a4-af68-fc563637f3ec",
   "metadata": {},
   "outputs": [
    {
     "name": "stdout",
     "output_type": "stream",
     "text": [
      "gravity: 4.302948386956267 m / s2\n"
     ]
    }
   ],
   "source": [
    "print(f'gravity: {g.si}')"
   ]
  },
  {
   "cell_type": "code",
   "execution_count": 7,
   "id": "d588ae20-d652-4f74-ac3e-83e9a50743ed",
   "metadata": {},
   "outputs": [
    {
     "name": "stdout",
     "output_type": "stream",
     "text": [
      "rotationperiod [s]: 4.055259 d, 350374.3776 s\n"
     ]
    }
   ],
   "source": [
    "print(f'rotationperiod [s]: {omega.to(u.day)}, {omega.si}')"
   ]
  },
  {
   "cell_type": "code",
   "execution_count": 8,
   "id": "63cc2dee-e29b-4408-9eca-0d66471b7f3a",
   "metadata": {},
   "outputs": [
    {
     "name": "stdout",
     "output_type": "stream",
     "text": [
      "rsphere: 1.27 jupiterRad, 90794840.0 m\n"
     ]
    }
   ],
   "source": [
    "print(f'rsphere: {R.to(u.jupiterRad)}, {R.si}')"
   ]
  },
  {
   "cell_type": "markdown",
   "id": "8a08143e-fc1b-4ecc-80af-cffe0ff7cefe",
   "metadata": {},
   "source": [
    "`opac.yaml` file:"
   ]
  },
  {
   "cell_type": "code",
   "execution_count": 9,
   "id": "ed62ebfd-dcf6-4f17-b8f3-f68185fdffa1",
   "metadata": {},
   "outputs": [
    {
     "name": "stdout",
     "output_type": "stream",
     "text": [
      "semimajoraxis: 0.0486 AU\n"
     ]
    }
   ],
   "source": [
    "print(f'semimajoraxis: {ap.to(u.au)}')"
   ]
  },
  {
   "cell_type": "code",
   "execution_count": 10,
   "id": "d437a1dc-7011-42da-ae6c-de11e1f42551",
   "metadata": {},
   "outputs": [
    {
     "name": "stdout",
     "output_type": "stream",
     "text": [
      "Rstar: 0.895 solRad\n"
     ]
    }
   ],
   "source": [
    "print(f'Rstar: {Rstar.to(u.R_sun)}')"
   ]
  },
  {
   "cell_type": "code",
   "execution_count": 11,
   "id": "842592fc-2e0f-4929-9b28-c8d73ed7b513",
   "metadata": {},
   "outputs": [
    {
     "name": "stdout",
     "output_type": "stream",
     "text": [
      "Tstar: 5400.0 K\n"
     ]
    }
   ],
   "source": [
    "print(f'Tstar: {Tstar.to(u.K)}')"
   ]
  }
 ],
 "metadata": {
  "kernelspec": {
   "display_name": "Python 3",
   "language": "python",
   "name": "python3"
  },
  "language_info": {
   "codemirror_mode": {
    "name": "ipython",
    "version": 3
   },
   "file_extension": ".py",
   "mimetype": "text/x-python",
   "name": "python",
   "nbconvert_exporter": "python",
   "pygments_lexer": "ipython3",
   "version": "3.9.12"
  }
 },
 "nbformat": 4,
 "nbformat_minor": 5
}
