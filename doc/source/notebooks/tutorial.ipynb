{
 "cells": [
  {
   "cell_type": "markdown",
   "id": "b76efa38",
   "metadata": {},
   "source": [
    "# Tutorial"
   ]
  },
  {
   "cell_type": "code",
   "execution_count": 1,
   "id": "2ae7c916",
   "metadata": {},
   "outputs": [],
   "source": [
    "from prt_phasecurve import calc_spectra, phase_curve\n",
    "from petitRADTRANS.poor_mans_nonequ_chem import interpol_abundances\n",
    "from petitRADTRANS import Radtrans\n",
    "from petitRADTRANS.nat_cst import get_PHOENIX_spec_rad\n",
    "import cubedsphere as cs\n",
    "import astropy.constants as const\n",
    "import astropy.units as u\n",
    "import numpy as np\n",
    "import matplotlib.pyplot as plt\n",
    "import matplotlib.colors as mcolors\n",
    "%matplotlib inline"
   ]
  },
  {
   "cell_type": "markdown",
   "id": "2ecc3801",
   "metadata": {},
   "source": [
    "## Loading the GCM data"
   ]
  },
  {
   "cell_type": "markdown",
   "id": "b6a93622",
   "metadata": {},
   "source": [
    "This step highly depends on your specific GCM and the format of its output. This tutorial will showcase an example of the WASP-43b data of Schneider et al. (2021)."
   ]
  },
  {
   "cell_type": "code",
   "execution_count": 2,
   "id": "0cf0a467",
   "metadata": {},
   "outputs": [
    {
     "name": "stdout",
     "output_type": "stream",
     "text": [
      "time needed to build regridder: 0.3629300594329834\n",
      "Regridder will use conservative method\n"
     ]
    }
   ],
   "source": [
    "outdir_ascii = '/Volumes/EXTERN/Simulations/exorad/paper/paper_runs/WASP-43b/run' # folder with GCM data\n",
    "ds_ascii, grid = cs.open_ascii_dataset(outdir_ascii, iters=[12000/25*24*3600], prefix=[\"T\", \"U\", \"V\", \"W\",\"Ttave\"])\n",
    "# converts wind and temperature\n",
    "ds_ascii = cs.exorad_postprocessing(ds_ascii, outdir=outdir_ascii)\n",
    "\n",
    "# Regrid to a lowres lon lat grid\n",
    "regrid = cs.Regridder(ds_ascii, d_lon=15, d_lat=15, input_type=\"cs\", reuse_weights=False,\n",
    "                      filename=f\"weights\",\n",
    "                      concat_mode=False, cs_grid=grid)\n",
    "ds_reg_lowres = regrid()"
   ]
  },
  {
   "cell_type": "markdown",
   "id": "797d485a",
   "metadata": {},
   "source": [
    "## Creating the spectra"
   ]
  },
  {
   "cell_type": "markdown",
   "id": "836dd352",
   "metadata": {},
   "source": [
    "**Idea:**\n",
    "1. Setup a Radtrans object\n",
    "2. Extract longitude, latitude and temperature from the GCM data\n",
    "3. Construct the abundancies (using petitRADTRANS.poor_mans_nonequ_chem in this example)\n",
    "4. Calculate the spectrum (will take some time... so be patient)\n",
    "5. Save the spectrum"
   ]
  },
  {
   "cell_type": "markdown",
   "id": "c010f079",
   "metadata": {},
   "source": [
    "**Setup petitRADTRANS:**<br>\n",
    "Check the petitRADTRANS documentation for more information"
   ]
  },
  {
   "cell_type": "code",
   "execution_count": 3,
   "id": "4a62ea3e",
   "metadata": {},
   "outputs": [
    {
     "name": "stdout",
     "output_type": "stream",
     "text": [
      "  Read line opacities of H2O_Exomol...\n",
      " Done.\n",
      "  Read line opacities of CO2...\n",
      " Done.\n",
      "  Read line opacities of CH4...\n",
      " Done.\n",
      "  Read line opacities of NH3...\n",
      " Done.\n",
      "  Read line opacities of CO_all_iso_Chubb...\n",
      " Done.\n",
      "  Read line opacities of H2S...\n",
      " Done.\n",
      "  Read line opacities of HCN...\n",
      " Done.\n",
      "  Read line opacities of SiO...\n",
      " Done.\n",
      "  Read line opacities of PH3...\n",
      " Done.\n",
      "  Read line opacities of VO...\n",
      " Done.\n",
      "  Read line opacities of FeH...\n",
      " Done.\n",
      "\n",
      "  Read CIA opacities for H2-H2...\n",
      "  Read CIA opacities for H2-He...\n",
      " Done.\n",
      "\n"
     ]
    }
   ],
   "source": [
    "pRT = Radtrans(line_species=['H2O_Exomol', 'Na_allard', 'K_allard', 'CO2', 'CH4', 'NH3', 'CO_all_iso_Chubb', 'H2S', 'HCN', 'SiO', 'PH3', 'TiO_all_Exomol', 'VO', 'FeH'], \\\n",
    "         rayleigh_species=['H2', 'He'], \\\n",
    "         continuum_opacities=['H2-H2', 'H2-He', 'H-'], \\\n",
    "         wlen_bords_micron=[0.2, 100.], \\\n",
    "         do_scat_emis=True)\n",
    "\n",
    "p_center = ds_reg_lowres.Z[::-1].values\n",
    "pRT.setup_opa_structure(p_center)"
   ]
  },
  {
   "cell_type": "markdown",
   "id": "1f0d2470",
   "metadata": {},
   "source": [
    "Setup the chemistry and coordinates "
   ]
  },
  {
   "cell_type": "code",
   "execution_count": 4,
   "id": "64268e88",
   "metadata": {
    "scrolled": false
   },
   "outputs": [],
   "source": [
    "# Setup chemistry:\n",
    "MMW = const.R.si.value / 3590 * 1000 * np.ones_like(p_center)\n",
    "COs = 0.55 * np.ones_like(p_center)\n",
    "FeHs = 0. * np.ones_like(p_center)\n",
    "\n",
    "# Setup the coordinates:\n",
    "mu = np.cos(ds_reg_lowres.lon * np.pi / 180.) * np.cos(ds_reg_lowres.lat * np.pi / 180.)\n",
    "theta_star = np.arccos(mu) * 180 / np.pi\n",
    "lon = ds_reg_lowres.lon\n",
    "lat = ds_reg_lowres.lat\n",
    "\n",
    "lon, lat = np.meshgrid(lon, lat)\n",
    "\n",
    "# Create 1D lists from coordinates:\n",
    "theta_list, lon_list, lat_list = [], [], []\n",
    "for i, lon_i in enumerate(np.array(lon).flat):\n",
    "    lat_i = np.array(lat).flat[i]\n",
    "    theta_list.append(np.array(theta_star.sel(lon=lon_i, lat=lat_i)))\n",
    "    lon_list.append(lon_i)\n",
    "    lat_list.append(lat_i)\n",
    "\n",
    "# Create 1D lists of temperature and abundancies:\n",
    "abunds_list, temp_list = [], []\n",
    "for i, lon_i in enumerate(np.array(lon).flat):\n",
    "    temp_i_GCM = ds_reg_lowres.Ttave.sel(lon=lon_i, lat=lat_i).isel(time=-1)\n",
    "    temp_i = np.array(temp_i_GCM)[::-1]\n",
    "\n",
    "    abunds = interpol_abundances(COs, FeHs, temp_i, (p_center * u.bar).cgs.value)\n",
    "    abunds[\"H2O_Exomol\"] = abunds.pop(\"H2O\")\n",
    "    abunds[\"Na_allard\"] = abunds.pop(\"Na\")\n",
    "    abunds[\"K_allard\"] = abunds.pop(\"K\")\n",
    "    abunds[\"CO_all_iso_Chubb\"] = abunds.pop(\"CO\")\n",
    "    abunds[\"TiO_all_Exomol\"] = abunds.pop(\"TiO\")\n",
    "\n",
    "    temp_list.append(temp_i)\n",
    "    abunds_list.append(abunds)"
   ]
  },
  {
   "cell_type": "markdown",
   "id": "4940af1f",
   "metadata": {},
   "source": [
    "Calculate the actual spectrum. This works in the same way as the `calc_flux` routine from petitRADTRANS. The only difference is that you provide a list of abundancies, temperatures and incident angles.\n",
    "\n",
    "For more info check the docstring of calc_spectra: "
   ]
  },
  {
   "cell_type": "code",
   "execution_count": 5,
   "id": "5f59a539",
   "metadata": {},
   "outputs": [
    {
     "name": "stdout",
     "output_type": "stream",
     "text": [
      "Help on function calc_spectra in module prt_phasecurve.spec_calc:\n",
      "\n",
      "calc_spectra(self: petitRADTRANS.radtrans.Radtrans, temp, abunds, gravity, mmw, sigma_lnorm=None, fsed=None, Kzz=None, radius=None, gray_opacity=None, Pcloud=None, kappa_zero=None, gamma_scat=None, add_cloud_scat_as_abs=None, Tstar=None, Rstar=None, semimajoraxis=None, geometry='non-isotropic', theta_star=0, hack_cloud_photospheric_tau=None)\n",
      "    Method to calculate the atmosphere's emitted intensity as a function of angles.\n",
      "    Takes a list of temp, abunds and theta_star. All other input parameters are similar to pRTs calc_flux routine\n",
      "    \n",
      "        Args:\n",
      "            temp:\n",
      "                the atmospheric temperature in K, at each atmospheric layer\n",
      "                (2-d numpy array, same length as pressure array).\n",
      "            abunds:\n",
      "                dictionary of mass fractions for all atmospheric absorbers.\n",
      "                Dictionary keys are the species names.\n",
      "                Every mass fraction array\n",
      "                has same length as pressure array.\n",
      "            gravity (float):\n",
      "                Surface gravity in cgs. Vertically constant for emission\n",
      "                spectra.\n",
      "            mmw:\n",
      "                the atmospheric mean molecular weight in amu,\n",
      "                at each atmospheric layer\n",
      "                (1-d numpy array, same length as pressure array).\n",
      "            sigma_lnorm (Optional[float]):\n",
      "                width of the log-normal cloud particle size distribution\n",
      "            fsed (Optional[float]):\n",
      "                cloud settling parameter\n",
      "            Kzz (Optional):\n",
      "                the atmospheric eddy diffusion coeffiecient in cgs untis\n",
      "                (i.e. :math:`\\rm cm^2/s`),\n",
      "                at each atmospheric layer\n",
      "                (1-d numpy array, same length as pressure array).\n",
      "            radius (Optional):\n",
      "                dictionary of mean particle radii for all cloud species.\n",
      "                Dictionary keys are the cloud species names.\n",
      "                Every radius array has same length as pressure array.\n",
      "            gray_opacity (Optional[float]):\n",
      "                Gray opacity value, to be added to the opacity at all\n",
      "                pressures and wavelengths (units :math:`\\rm cm^2/g`)\n",
      "            Pcloud (Optional[float]):\n",
      "                Pressure, in bar, where opaque cloud deck is added to the\n",
      "                absorption opacity.\n",
      "            kappa_zero (Optional[float]):\n",
      "                Scattering opacity at 0.35 micron, in cgs units (cm^2/g).\n",
      "            gamma_scat (Optional[float]):\n",
      "                Has to be given if kappa_zero is definded, this is the\n",
      "                wavelength powerlaw index of the parametrized scattering\n",
      "                opacity.\n",
      "            add_cloud_scat_as_abs (Optional[bool]):\n",
      "                If ``True``, 20 % of the cloud scattering opacity will be\n",
      "                added to the absorption opacity, introduced to test for the\n",
      "                effect of neglecting scattering.\n",
      "            Tstar (Optional[float]):\n",
      "                The temperature of the host star in K, used only if the\n",
      "                scattering is considered. If not specified, the direct\n",
      "                light contribution is not calculated.\n",
      "            Rstar (Optional[float]):\n",
      "                The radius of the star in Solar radii. If specified,\n",
      "                used to scale the to scale the stellar flux,\n",
      "                otherwise it uses PHOENIX radius.\n",
      "            semimajoraxis (Optional[float]):\n",
      "                The distance of the planet from the star. Used to scale\n",
      "                the stellar flux when the scattering of the direct light\n",
      "                is considered.\n",
      "            geometry (Optional[string]):\n",
      "                if equal to ``'dayside_ave'``: use the dayside average\n",
      "                geometry. if equal to ``'planetary_ave'``: use the\n",
      "                planetary average geometry. if equal to\n",
      "                ``'non-isotropic'``: use the non-isotropic\n",
      "                geometry.\n",
      "            theta_star (Optional[float]):\n",
      "                Inclination angle of the direct light with respect to\n",
      "                the normal to the atmosphere. Used only in the\n",
      "                non-isotropic geometry scenario.\n",
      "\n"
     ]
    }
   ],
   "source": [
    "help(calc_spectra)"
   ]
  },
  {
   "cell_type": "code",
   "execution_count": null,
   "id": "84c6a422",
   "metadata": {
    "scrolled": false
   },
   "outputs": [],
   "source": [
    "# Calculate the spectra \n",
    "# NB: This will take a long time, depending on the resolution of your grid:    \n",
    "spectra = calc_spectra(pRT, \n",
    "                       temp=temp_list, \n",
    "                       mmw=MMW, \n",
    "                       abunds=abunds_list, \n",
    "                       theta_star=theta_list, \n",
    "                       gravity = 46.9 * 100,\n",
    "                       Tstar = 4520,\n",
    "                       Rstar = 0.667*const.R_sun.cgs.value,\n",
    "                       semimajoraxis = 0.01526 * const.au.cgs.value\n",
    "    )\n",
    "\n",
    "# Save the spectrum for future reuse!\n",
    "np.save(f\"emission.npy\", spectra)"
   ]
  },
  {
   "cell_type": "markdown",
   "id": "62576524",
   "metadata": {},
   "source": [
    "## Phasecurve Integration"
   ]
  },
  {
   "cell_type": "markdown",
   "id": "cd7fa2b6",
   "metadata": {},
   "source": [
    "**Idea:**\n",
    "1. Load spectrum\n",
    "2. Integrate spectrum\n",
    "3. normalize spectrum by stellar spectrum"
   ]
  },
  {
   "cell_type": "markdown",
   "id": "6c31cd57",
   "metadata": {},
   "source": [
    "Define the phases (from 0 to 1, where 0 is the dayside and 0.5 the nightside) for which you want to integrate the spectrum:"
   ]
  },
  {
   "cell_type": "code",
   "execution_count": 6,
   "id": "6f3b930c",
   "metadata": {},
   "outputs": [],
   "source": [
    "phases = np.linspace(0,1,40)"
   ]
  },
  {
   "cell_type": "markdown",
   "id": "ba97880a",
   "metadata": {},
   "source": [
    "load the spectrum from the file that we have previously created"
   ]
  },
  {
   "cell_type": "code",
   "execution_count": 7,
   "id": "765965a3",
   "metadata": {},
   "outputs": [],
   "source": [
    "spectra = np.load(f\"emission.npy\")"
   ]
  },
  {
   "cell_type": "markdown",
   "id": "305938f0",
   "metadata": {},
   "source": [
    "We can now carry out the phase curve calculation! Check out the docstring:"
   ]
  },
  {
   "cell_type": "code",
   "execution_count": 8,
   "id": "51e7a656",
   "metadata": {},
   "outputs": [
    {
     "name": "stdout",
     "output_type": "stream",
     "text": [
      "Help on function phase_curve in module prt_phasecurve.phase_curve:\n",
      "\n",
      "phase_curve(phases, lon, lat, intensity)\n",
      "    Function to wrap around the phasecurve calculation.\n",
      "    \n",
      "    Parameters\n",
      "    ----------\n",
      "    phases (array(P)):\n",
      "        List of phases at which the phasecurve should be evaluated\n",
      "    lon (array(M1,M2) or array(M1*M2)):\n",
      "        Longitude coordinate values. If input is 1D we assume that it has been flattened.\n",
      "    lat (array(M1,M2) or array(M1*M2)):\n",
      "        Longitude coordinate values. If input is 1D we assume that it has been flattened.\n",
      "    mus (array(D)):\n",
      "        List of mus matching the mus of the calculated intensity\n",
      "    intensity (array(M1,M2,D,N) or array(M1*M2,D,N)):\n",
      "        array of intensitities. The order needs to be  Horizontal (1D or 2D), mu, Wavelength\n",
      "    \n",
      "    Returns\n",
      "    -------\n",
      "    phase_curve (array (P,N)):\n",
      "        Array containing the calculated phasecurve. First Dimension is the Phase, second Dimension is the Wavelength\n",
      "\n"
     ]
    }
   ],
   "source": [
    "help(phase_curve)"
   ]
  },
  {
   "cell_type": "markdown",
   "id": "13e802f5",
   "metadata": {},
   "source": [
    "Now lets calculate the phasecurve"
   ]
  },
  {
   "cell_type": "code",
   "execution_count": 9,
   "id": "b8b0e069",
   "metadata": {},
   "outputs": [],
   "source": [
    "# calculate emission spectrum\n",
    "flux = phase_curve(phases, lon_list, lat_list, spectra)"
   ]
  },
  {
   "cell_type": "markdown",
   "id": "a5016253",
   "metadata": {},
   "source": [
    "The final planet to star flux ratio needs to be accounted for the planetary and stellar radii (see e.g., Sing et al. 2018, eq.2)\n",
    "\n",
    "$\\frac{\\Delta f}{f} = \\left(\\frac{R_\\mathrm{pla}}{R_\\mathrm{star}}\\right)^2 \\frac{F_\\mathrm{pla}}{F_\\mathrm{star}}$ "
   ]
  },
  {
   "cell_type": "code",
   "execution_count": 10,
   "id": "643f283d",
   "metadata": {},
   "outputs": [],
   "source": [
    "# Extract wlen\n",
    "wlen = const.c.cgs.value / pRT.freq / 1e-4\n",
    "\n",
    "# correct flux for the ratio between solar radius and planetary radius\n",
    "rpl = (1.036*u.jupiterRad).cgs.value\n",
    "rstar = (0.667*u.solRad).cgs.value\n",
    "flux = flux*(rpl/rstar)**2\n",
    "\n",
    "# calculate by stellar spectrum\n",
    "spec, _ = get_PHOENIX_spec_rad(4520)\n",
    "stellar_intensity = np.interp(wlen*1e-4, spec[:,0], spec[:,1])\n",
    "\n",
    "# Norm flux to stellar intensity\n",
    "flux = flux/stellar_intensity"
   ]
  },
  {
   "cell_type": "markdown",
   "id": "75486634",
   "metadata": {},
   "source": [
    "The resulting flux is a 2D array of phase, wavelength:"
   ]
  },
  {
   "cell_type": "code",
   "execution_count": 11,
   "id": "96b0c3de",
   "metadata": {},
   "outputs": [
    {
     "data": {
      "text/plain": [
       "(40, 6214)"
      ]
     },
     "execution_count": 11,
     "metadata": {},
     "output_type": "execute_result"
    }
   ],
   "source": [
    "flux.shape"
   ]
  },
  {
   "cell_type": "markdown",
   "id": "dd3d5958",
   "metadata": {},
   "source": [
    "Lets create a dayside emission spectrum!"
   ]
  },
  {
   "cell_type": "code",
   "execution_count": 12,
   "id": "fe985b86",
   "metadata": {},
   "outputs": [
    {
     "data": {
      "image/png": "[encoded data removed]",
      "text/plain": [
       "<Figure size 432x288 with 1 Axes>"
      ]
     },
     "metadata": {
      "needs_background": "light"
     },
     "output_type": "display_data"
    }
   ],
   "source": [
    "# Dayside = phase == 0\n",
    "dayside = np.squeeze(flux[phases == 0.0])\n",
    "plt.plot(wlen, dayside*1e6)\n",
    "plt.xscale('log')\n",
    "plt.yscale('linear')\n",
    "plt.xlim([0.2,15])\n",
    "plt.ylim([0.2,1e4])\n",
    "plt.ylabel(r'$F_\\mathrm{pl}/F_\\mathrm{star}$ [ppm]')\n",
    "plt.xlabel('$\\lambda$ [$\\mu$m]')\n",
    "plt.title('Dayside emission spectrum')\n",
    "plt.show()"
   ]
  },
  {
   "cell_type": "markdown",
   "id": "978d1e37",
   "metadata": {},
   "source": [
    "Lets create some phase curves!"
   ]
  },
  {
   "cell_type": "code",
   "execution_count": 13,
   "id": "5c95ce32",
   "metadata": {},
   "outputs": [
    {
     "data": {
      "image/png": "[encoded data removed]",
      "text/plain": [
       "<Figure size 432x288 with 1 Axes>"
      ]
     },
     "metadata": {
      "needs_background": "light"
     },
     "output_type": "display_data"
    },
    {
     "data": {
      "image/png": "[encoded data removed]",
      "text/plain": [
       "<Figure size 432x288 with 1 Axes>"
      ]
     },
     "metadata": {
      "needs_background": "light"
     },
     "output_type": "display_data"
    }
   ],
   "source": [
    "# 4.5 mu m plot\n",
    "l = 4.5\n",
    "idx = np.argmin(wlen < l)\n",
    "\n",
    "plt.plot(phases, flux[:,idx]*1e6)\n",
    "plt.axvline(0.5, label='nightside', ls=':', color='black')\n",
    "plt.axvline(0.0, label='dayside', ls=':', color='orange')\n",
    "plt.xlabel('phase')\n",
    "plt.ylabel(r'$F_\\mathrm{pl}/F_\\mathrm{star}$ [ppm]')\n",
    "plt.title(r'Phasecurve at {:.2f}$\\mu$m'.format(wlen[idx]))\n",
    "plt.legend()\n",
    "plt.show()\n",
    "\n",
    "# 3.6 mu m plot\n",
    "l = 3.6\n",
    "idx = np.argmin(wlen < l)\n",
    "plt.plot(phases, flux[:,idx]*1e6)\n",
    "plt.axvline(0.5, label='nightside', ls=':', color='black')\n",
    "plt.axvline(0.0, label='dayside', ls=':', color='orange')\n",
    "plt.xlabel('phase')\n",
    "plt.ylabel(r'$F_\\mathrm{pl}/F_\\mathrm{star}$ [ppm]')\n",
    "plt.title(r'Phasecurve at {:.2f}$\\mu$m'.format(wlen[idx]))\n",
    "plt.legend()\n",
    "plt.show()"
   ]
  }
 ],
 "metadata": {
  "kernelspec": {
   "display_name": "Python 3",
   "language": "python",
   "name": "python3"
  },
  "language_info": {
   "codemirror_mode": {
    "name": "ipython",
    "version": 3
   },
   "file_extension": ".py",
   "mimetype": "text/x-python",
   "name": "python",
   "nbconvert_exporter": "python",
   "pygments_lexer": "ipython3",
   "version": "3.9.6"
  },
  "widgets": {
   "application/vnd.jupyter.widget-state+json": {
    "state": {},
    "version_major": 2,
    "version_minor": 0
   }
  }
 },
 "nbformat": 4,
 "nbformat_minor": 5
}
